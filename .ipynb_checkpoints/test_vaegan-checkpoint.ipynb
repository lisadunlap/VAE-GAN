{
 "cells": [
  {
   "cell_type": "code",
   "execution_count": 76,
   "metadata": {},
   "outputs": [],
   "source": [
    "from __future__ import print_function\n",
    "import argparse\n",
    "import torch\n",
    "import torch.utils.data\n",
    "from torch import nn, optim\n",
    "from torch.autograd import Variable\n",
    "from torch.nn import functional as F\n",
    "from torchvision import datasets, transforms\n",
    "from torchvision.utils import save_image\n",
    "import torchvision.utils as vutils\n",
    "import warnings\n",
    "warnings.filterwarnings(\"ignore\")"
   ]
  },
  {
   "cell_type": "code",
   "execution_count": 77,
   "metadata": {},
   "outputs": [],
   "source": [
    "%reload_ext autoreload\n",
    "%autoreload 2"
   ]
  },
  {
   "cell_type": "code",
   "execution_count": 78,
   "metadata": {},
   "outputs": [],
   "source": [
    "from vaegan3 import VAE\n",
    "from vaegan3 import NetD\n",
    "from vaegan3 import Aux\n",
    "from vaegan3 import loss_function"
   ]
  },
  {
   "cell_type": "code",
   "execution_count": 79,
   "metadata": {},
   "outputs": [],
   "source": [
    "bsz = 80\n",
    "criterion = nn.BCELoss()\n"
   ]
  },
  {
   "cell_type": "code",
   "execution_count": 80,
   "metadata": {},
   "outputs": [
    {
     "name": "stdout",
     "output_type": "stream",
     "text": [
      "Files already downloaded and verified\n"
     ]
    }
   ],
   "source": [
    "train_loader = torch.utils.data.DataLoader(\n",
    "    datasets.Omniglot('../data', download=True,\n",
    "                   transform=transforms.ToTensor()),\n",
    "    batch_size=bsz, shuffle=True)\n",
    "test_loader = torch.utils.data.DataLoader(\n",
    "    datasets.Omniglot('../data', background=True, transform=transforms.ToTensor()),\n",
    "    batch_size=bsz, shuffle=True)"
   ]
  },
  {
   "cell_type": "code",
   "execution_count": 81,
   "metadata": {},
   "outputs": [
    {
     "data": {
      "text/plain": [
       "241"
      ]
     },
     "execution_count": 81,
     "metadata": {},
     "output_type": "execute_result"
    }
   ],
   "source": [
    "len(train_loader)"
   ]
  },
  {
   "cell_type": "code",
   "execution_count": 82,
   "metadata": {},
   "outputs": [],
   "source": [
    "netG = VAE()\n",
    "netD = NetD()\n",
    "aux = Aux()"
   ]
  },
  {
   "cell_type": "code",
   "execution_count": 83,
   "metadata": {},
   "outputs": [],
   "source": [
    "optimizerD = optim.Adam(netD.parameters(), lr=1e-4)\n",
    "optimizerG = optim.Adam(netG.parameters(), lr=1e-4)\n",
    "optimizer_aux = optim.Adam(aux.parameters(), lr=1e-4)"
   ]
  },
  {
   "cell_type": "code",
   "execution_count": 84,
   "metadata": {},
   "outputs": [],
   "source": [
    "input = torch.FloatTensor(bsz,105, 105)\n",
    "label = torch.FloatTensor(bsz)\n",
    "real_label=1\n",
    "fake_label=0\n",
    "USE_CUDA=1\n",
    "\n",
    "if(USE_CUDA):\n",
    "    netG=netG.cuda()\n",
    "    netD=netD.cuda()\n",
    "    aux = aux.cuda()\n",
    "    criterion=criterion.cuda()\n",
    "    input,label=input.cuda(), label.cuda()"
   ]
  },
  {
   "cell_type": "code",
   "execution_count": null,
   "metadata": {},
   "outputs": [
    {
     "name": "stdout",
     "output_type": "stream",
     "text": [
      "real_cpu.size() torch.Size([80, 1, 105, 105]) iteration:  0\n",
      "real_cpu.size() torch.Size([80, 1, 105, 105]) iteration:  100\n",
      "real_cpu.size() torch.Size([80, 1, 105, 105]) iteration:  200\n",
      "epoch:  0\n",
      "real_cpu.size() torch.Size([80, 1, 105, 105]) iteration:  0\n",
      "real_cpu.size() torch.Size([80, 1, 105, 105]) iteration:  100\n",
      "real_cpu.size() torch.Size([80, 1, 105, 105]) iteration:  200\n",
      "real_cpu.size() torch.Size([80, 1, 105, 105]) iteration:  0\n",
      "real_cpu.size() torch.Size([80, 1, 105, 105]) iteration:  100\n",
      "real_cpu.size() torch.Size([80, 1, 105, 105]) iteration:  200\n",
      "real_cpu.size() torch.Size([80, 1, 105, 105]) iteration:  0\n",
      "real_cpu.size() torch.Size([80, 1, 105, 105]) iteration:  100\n",
      "real_cpu.size() torch.Size([80, 1, 105, 105]) iteration:  200\n",
      "real_cpu.size() torch.Size([80, 1, 105, 105]) iteration:  0\n",
      "real_cpu.size() torch.Size([80, 1, 105, 105]) iteration:  100\n",
      "real_cpu.size() torch.Size([80, 1, 105, 105]) iteration:  200\n",
      "real_cpu.size() torch.Size([80, 1, 105, 105]) iteration:  0\n",
      "real_cpu.size() torch.Size([80, 1, 105, 105]) iteration:  100\n",
      "real_cpu.size() torch.Size([80, 1, 105, 105]) iteration:  200\n",
      "real_cpu.size() torch.Size([80, 1, 105, 105]) iteration:  0\n",
      "real_cpu.size() torch.Size([80, 1, 105, 105]) iteration:  100\n",
      "real_cpu.size() torch.Size([80, 1, 105, 105]) iteration:  200\n",
      "real_cpu.size() torch.Size([80, 1, 105, 105]) iteration:  0\n",
      "real_cpu.size() torch.Size([80, 1, 105, 105]) iteration:  100\n",
      "real_cpu.size() torch.Size([80, 1, 105, 105]) iteration:  200\n",
      "real_cpu.size() torch.Size([80, 1, 105, 105]) iteration:  0\n",
      "real_cpu.size() torch.Size([80, 1, 105, 105]) iteration:  100\n",
      "real_cpu.size() torch.Size([80, 1, 105, 105]) iteration:  200\n",
      "real_cpu.size() torch.Size([80, 1, 105, 105]) iteration:  0\n",
      "real_cpu.size() torch.Size([80, 1, 105, 105]) iteration:  100\n",
      "real_cpu.size() torch.Size([80, 1, 105, 105]) iteration:  200\n",
      "real_cpu.size() torch.Size([80, 1, 105, 105]) iteration:  0\n",
      "real_cpu.size() torch.Size([80, 1, 105, 105]) iteration:  100\n",
      "real_cpu.size() torch.Size([80, 1, 105, 105]) iteration:  200\n",
      "real_cpu.size() torch.Size([80, 1, 105, 105]) iteration:  0\n",
      "real_cpu.size() torch.Size([80, 1, 105, 105]) iteration:  100\n",
      "real_cpu.size() torch.Size([80, 1, 105, 105]) iteration:  200\n",
      "real_cpu.size() torch.Size([80, 1, 105, 105]) iteration:  0\n",
      "real_cpu.size() torch.Size([80, 1, 105, 105]) iteration:  100\n",
      "real_cpu.size() torch.Size([80, 1, 105, 105]) iteration:  200\n",
      "real_cpu.size() torch.Size([80, 1, 105, 105]) iteration:  0\n",
      "real_cpu.size() torch.Size([80, 1, 105, 105]) iteration:  100\n",
      "real_cpu.size() torch.Size([80, 1, 105, 105]) iteration:  200\n",
      "real_cpu.size() torch.Size([80, 1, 105, 105]) iteration:  0\n",
      "real_cpu.size() torch.Size([80, 1, 105, 105]) iteration:  100\n",
      "real_cpu.size() torch.Size([80, 1, 105, 105]) iteration:  200\n",
      "real_cpu.size() torch.Size([80, 1, 105, 105]) iteration:  0\n",
      "real_cpu.size() torch.Size([80, 1, 105, 105]) iteration:  100\n",
      "real_cpu.size() torch.Size([80, 1, 105, 105]) iteration:  200\n",
      "real_cpu.size() torch.Size([80, 1, 105, 105]) iteration:  0\n",
      "real_cpu.size() torch.Size([80, 1, 105, 105]) iteration:  100\n",
      "real_cpu.size() torch.Size([80, 1, 105, 105]) iteration:  200\n",
      "real_cpu.size() torch.Size([80, 1, 105, 105]) iteration:  0\n",
      "real_cpu.size() torch.Size([80, 1, 105, 105]) iteration:  100\n",
      "real_cpu.size() torch.Size([80, 1, 105, 105]) iteration:  200\n",
      "real_cpu.size() torch.Size([80, 1, 105, 105]) iteration:  0\n",
      "real_cpu.size() torch.Size([80, 1, 105, 105]) iteration:  100\n",
      "real_cpu.size() torch.Size([80, 1, 105, 105]) iteration:  200\n",
      "real_cpu.size() torch.Size([80, 1, 105, 105]) iteration:  0\n",
      "real_cpu.size() torch.Size([80, 1, 105, 105]) iteration:  100\n",
      "real_cpu.size() torch.Size([80, 1, 105, 105]) iteration:  200\n",
      "real_cpu.size() torch.Size([80, 1, 105, 105]) iteration:  0\n",
      "real_cpu.size() torch.Size([80, 1, 105, 105]) iteration:  100\n",
      "real_cpu.size() torch.Size([80, 1, 105, 105]) iteration:  200\n",
      "real_cpu.size() torch.Size([80, 1, 105, 105]) iteration:  0\n",
      "real_cpu.size() torch.Size([80, 1, 105, 105]) iteration:  100\n",
      "real_cpu.size() torch.Size([80, 1, 105, 105]) iteration:  200\n",
      "real_cpu.size() torch.Size([80, 1, 105, 105]) iteration:  0\n",
      "real_cpu.size() torch.Size([80, 1, 105, 105]) iteration:  100\n",
      "real_cpu.size() torch.Size([80, 1, 105, 105]) iteration:  200\n",
      "real_cpu.size() torch.Size([80, 1, 105, 105]) iteration:  0\n",
      "real_cpu.size() torch.Size([80, 1, 105, 105]) iteration:  100\n",
      "real_cpu.size() torch.Size([80, 1, 105, 105]) iteration:  200\n",
      "real_cpu.size() torch.Size([80, 1, 105, 105]) iteration:  0\n",
      "real_cpu.size() torch.Size([80, 1, 105, 105]) iteration:  100\n",
      "real_cpu.size() torch.Size([80, 1, 105, 105]) iteration:  200\n",
      "real_cpu.size() torch.Size([80, 1, 105, 105]) iteration:  0\n",
      "real_cpu.size() torch.Size([80, 1, 105, 105]) iteration:  100\n",
      "real_cpu.size() torch.Size([80, 1, 105, 105]) iteration:  200\n",
      "epoch:  25\n",
      "real_cpu.size() torch.Size([80, 1, 105, 105]) iteration:  0\n",
      "real_cpu.size() torch.Size([80, 1, 105, 105]) iteration:  100\n",
      "real_cpu.size() torch.Size([80, 1, 105, 105]) iteration:  200\n",
      "real_cpu.size() torch.Size([80, 1, 105, 105]) iteration:  0\n",
      "real_cpu.size() torch.Size([80, 1, 105, 105]) iteration:  100\n",
      "real_cpu.size() torch.Size([80, 1, 105, 105]) iteration:  200\n",
      "real_cpu.size() torch.Size([80, 1, 105, 105]) iteration:  0\n",
      "real_cpu.size() torch.Size([80, 1, 105, 105]) iteration:  100\n",
      "real_cpu.size() torch.Size([80, 1, 105, 105]) iteration:  200\n",
      "real_cpu.size() torch.Size([80, 1, 105, 105]) iteration:  0\n",
      "real_cpu.size() torch.Size([80, 1, 105, 105]) iteration:  100\n",
      "real_cpu.size() torch.Size([80, 1, 105, 105]) iteration:  200\n",
      "real_cpu.size() torch.Size([80, 1, 105, 105]) iteration:  0\n",
      "real_cpu.size() torch.Size([80, 1, 105, 105]) iteration:  100\n"
     ]
    }
   ],
   "source": [
    "%reload_ext autoreload\n",
    "%autoreload 2\n",
    "for epoch in range(150):\n",
    "    for i, (data,y) in enumerate(train_loader):\n",
    "        gamma = 1.0\n",
    "        real_cpu = data;\n",
    "\n",
    "        real_cpu = real_cpu.cuda()\n",
    "        y=y.cuda()\n",
    "        input.resize_as_(real_cpu).copy_(real_cpu)\n",
    "        label.resize_(bsz).fill_(real_label)\n",
    "\n",
    "        inputv = Variable(input)\n",
    "        labelv = Variable(label)\n",
    "        y = Variable(y)\n",
    "\n",
    "        #need variables for dis\n",
    "        #x_l, x_l_tilde\n",
    "        \n",
    "        \n",
    "        #do discriminator calculations\n",
    "        netD.zero_grad()\n",
    "        #fc3_weight,fc4_weight = aux.return_weights()\n",
    "        mu,logvar = netG(inputv, y)\n",
    "        std = logvar.mul(0.5).exp_()\n",
    "        eps = Variable(std.data.new(std.size()).normal_())\n",
    "        z=eps.mul(std).add_(mu)\n",
    "        fake = aux(z, y)\n",
    "        \n",
    "        x_l_tilde, output_fake = netD(fake, y)\n",
    "        x_l, output_real = netD(inputv, y)\n",
    "        #x_l_aux, output_fake_aux = netD(fake_aux)\n",
    "        L_GAN_real = criterion(output_real, labelv)\n",
    "        L_GAN_real.backward(retain_graph=True)\n",
    "        \n",
    "        labelv = Variable(label.fill_(fake_label))\n",
    "        L_GAN_fake = criterion(output_fake, labelv)\n",
    "        L_GAN_fake.backward(retain_graph=True)\n",
    "        \n",
    "        z_p = Variable(std.data.new(std.size()).normal_())\n",
    "        fake_aux = aux(z_p, y)\n",
    "        x_l_aux, output_aux = netD(fake_aux, y)\n",
    "        L_GAN_aux = criterion(output_aux,labelv)\n",
    "        L_GAN_aux.backward(retain_graph=True)\n",
    "        optimizerD.step()\n",
    "           \n",
    "        \n",
    "        #get weights of netG and use in aux\n",
    "        aux.zero_grad()\n",
    "        labelv=Variable(label.fill_(real_label))\n",
    "        \n",
    "        L_dec_vae = gamma*loss_function(x_l_tilde,x_l,mu,logvar)\n",
    "        L_dec_fake = criterion(output_fake,labelv)\n",
    "        L_dec_aux  = criterion(output_aux,labelv)\n",
    "        L_dec_vae.backward(retain_graph=True)\n",
    "        L_dec_fake.backward(retain_graph=True)\n",
    "        L_dec_aux.backward(retain_graph=True)\n",
    "        optimizer_aux.step()\n",
    "        \n",
    "        \n",
    "\n",
    "        #encoder loss \n",
    "        netG.zero_grad()\n",
    "        L_enc = loss_function(x_l_tilde, x_l,mu,logvar)\n",
    "        L_enc.backward()\n",
    "        optimizerG.step()\n",
    "\n",
    "    \n",
    "        if i % 100 == 0:\n",
    "            print('real_cpu.size()', real_cpu.size(), \"iteration: \", i)\n",
    "            vutils.save_image(real_cpu,\n",
    "                            './results/cvae results/real_samples2.png',\n",
    "                                normalize=True)\n",
    "            vutils.save_image(fake.data.view(-1,1,105, 105),\n",
    "                                './results/cvae results/fake_samples2.png',\n",
    "                                normalize=True)\n",
    "    if epoch % 25 == 0:\n",
    "        print('epoch: ', epoch)\n",
    "        vutils.save_image(fake.data.view(-1,1,105, 105),\n",
    "                                './results/cvae results/fake_samples2_{0}.png'.format(epoch),\n",
    "                                normalize=True)"
   ]
  },
  {
   "cell_type": "code",
   "execution_count": null,
   "metadata": {},
   "outputs": [],
   "source": []
  }
 ],
 "metadata": {
  "kernelspec": {
   "display_name": "Python 3",
   "language": "python",
   "name": "python3"
  },
  "language_info": {
   "codemirror_mode": {
    "name": "ipython",
    "version": 3
   },
   "file_extension": ".py",
   "mimetype": "text/x-python",
   "name": "python",
   "nbconvert_exporter": "python",
   "pygments_lexer": "ipython3",
   "version": "3.6.7"
  }
 },
 "nbformat": 4,
 "nbformat_minor": 2
}
